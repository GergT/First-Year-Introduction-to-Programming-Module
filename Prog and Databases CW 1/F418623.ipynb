{
 "cells": [
  {
   "cell_type": "markdown",
   "id": "add5a221-2d4b-40a5-9ffa-3d90a4deaa0d",
   "metadata": {},
   "source": [
    "# F418623 COURSEWORK"
   ]
  },
  {
   "cell_type": "markdown",
   "id": "6ebb0826-26d0-410c-aa17-215062689bcd",
   "metadata": {
    "editable": true,
    "slideshow": {
     "slide_type": ""
    },
    "tags": []
   },
   "source": [
    "## Menu"
   ]
  },
  {
   "cell_type": "markdown",
   "id": "15046154-393e-4e32-ba2e-96805531d970",
   "metadata": {},
   "source": [
    "The full GUI menu allowing for easy searching/renting/returning/pruning for any user."
   ]
  },
  {
   "cell_type": "code",
   "execution_count": 1,
   "id": "6d6657b2-f801-4ece-b48f-165291dab08d",
   "metadata": {},
   "outputs": [
    {
     "data": {
      "application/vnd.jupyter.widget-view+json": {
       "model_id": "effc8b273b3d4664bbcd6b58b57ccac1",
       "version_major": 2,
       "version_minor": 0
      },
      "text/plain": [
       "Label(value='MUSIC RENTAL MENU', layout=Layout(border_bottom='3px solid black', border_left='3px solid black',…"
      ]
     },
     "metadata": {},
     "output_type": "display_data"
    },
    {
     "data": {
      "application/vnd.jupyter.widget-view+json": {
       "model_id": "5314707ae464427f9cbda09f7bea0879",
       "version_major": 2,
       "version_minor": 0
      },
      "text/plain": [
       "Box(layout=Layout(height='30px'))"
      ]
     },
     "metadata": {},
     "output_type": "display_data"
    },
    {
     "data": {
      "application/vnd.jupyter.widget-view+json": {
       "model_id": "9afe9757895f41959988dd243f976a0c",
       "version_major": 2,
       "version_minor": 0
      },
      "text/plain": [
       "Label(value='SEARCH FOR A SONG', layout=Layout(border_bottom='1px solid black', border_left='1px solid black',…"
      ]
     },
     "metadata": {},
     "output_type": "display_data"
    },
    {
     "data": {
      "application/vnd.jupyter.widget-view+json": {
       "model_id": "8828cd5d56cf445584524420e8d90257",
       "version_major": 2,
       "version_minor": 0
      },
      "text/plain": [
       "Text(value='', placeholder='Enter search here')"
      ]
     },
     "metadata": {},
     "output_type": "display_data"
    },
    {
     "data": {
      "application/vnd.jupyter.widget-view+json": {
       "model_id": "ca4e0e9c6b764ebdb47ccbade735c425",
       "version_major": 2,
       "version_minor": 0
      },
      "text/plain": [
       "HBox(children=(Button(description='Search by song', style=ButtonStyle()), Button(description='Search by artist…"
      ]
     },
     "metadata": {},
     "output_type": "display_data"
    },
    {
     "data": {
      "application/vnd.jupyter.widget-view+json": {
       "model_id": "d9a91a5879854e29adf18497ebd73301",
       "version_major": 2,
       "version_minor": 0
      },
      "text/plain": [
       "Box(layout=Layout(height='30px'))"
      ]
     },
     "metadata": {},
     "output_type": "display_data"
    },
    {
     "data": {
      "application/vnd.jupyter.widget-view+json": {
       "model_id": "2100db62abad45b480df077ee906cd5f",
       "version_major": 2,
       "version_minor": 0
      },
      "text/plain": [
       "Label(value='RENT A SONG', layout=Layout(border_bottom='1px solid black', border_left='1px solid black', borde…"
      ]
     },
     "metadata": {},
     "output_type": "display_data"
    },
    {
     "data": {
      "application/vnd.jupyter.widget-view+json": {
       "model_id": "5be3584cdf544df6a191e9d0ad08fdb3",
       "version_major": 2,
       "version_minor": 0
      },
      "text/plain": [
       "Text(value='', placeholder='Enter song ID here')"
      ]
     },
     "metadata": {},
     "output_type": "display_data"
    },
    {
     "data": {
      "application/vnd.jupyter.widget-view+json": {
       "model_id": "5ea1bf74f5c14274bba9f3132c397bd4",
       "version_major": 2,
       "version_minor": 0
      },
      "text/plain": [
       "Text(value='', placeholder='Enter customer ID here')"
      ]
     },
     "metadata": {},
     "output_type": "display_data"
    },
    {
     "data": {
      "application/vnd.jupyter.widget-view+json": {
       "model_id": "2217374bc5b84425a90b0023969718c8",
       "version_major": 2,
       "version_minor": 0
      },
      "text/plain": [
       "HBox(children=(Button(description='Rent', style=ButtonStyle()),))"
      ]
     },
     "metadata": {},
     "output_type": "display_data"
    },
    {
     "data": {
      "application/vnd.jupyter.widget-view+json": {
       "model_id": "804b2fae5826463ab546b1dc1925e2ab",
       "version_major": 2,
       "version_minor": 0
      },
      "text/plain": [
       "Box(layout=Layout(height='30px'))"
      ]
     },
     "metadata": {},
     "output_type": "display_data"
    },
    {
     "data": {
      "application/vnd.jupyter.widget-view+json": {
       "model_id": "410e6d87c02c4c21986d9771c3a909d8",
       "version_major": 2,
       "version_minor": 0
      },
      "text/plain": [
       "Label(value='RETURN A SONG', layout=Layout(border_bottom='1px solid black', border_left='1px solid black', bor…"
      ]
     },
     "metadata": {},
     "output_type": "display_data"
    },
    {
     "data": {
      "application/vnd.jupyter.widget-view+json": {
       "model_id": "cf03ea97718b4d808ae5ee95a545ef51",
       "version_major": 2,
       "version_minor": 0
      },
      "text/plain": [
       "Text(value='', placeholder='Enter song ID here')"
      ]
     },
     "metadata": {},
     "output_type": "display_data"
    },
    {
     "data": {
      "application/vnd.jupyter.widget-view+json": {
       "model_id": "01f09678329a418096fa0f25ff2f6b8f",
       "version_major": 2,
       "version_minor": 0
      },
      "text/plain": [
       "Text(value='', placeholder='Enter customer ID here')"
      ]
     },
     "metadata": {},
     "output_type": "display_data"
    },
    {
     "data": {
      "application/vnd.jupyter.widget-view+json": {
       "model_id": "a9be7f1761004dfcb629ebdae9bf0014",
       "version_major": 2,
       "version_minor": 0
      },
      "text/plain": [
       "IntSlider(value=5, description='rating', max=5)"
      ]
     },
     "metadata": {},
     "output_type": "display_data"
    },
    {
     "data": {
      "application/vnd.jupyter.widget-view+json": {
       "model_id": "fd25fb67e81b47328f1c3146a36f5355",
       "version_major": 2,
       "version_minor": 0
      },
      "text/plain": [
       "Text(value='', placeholder='Enter any comments here')"
      ]
     },
     "metadata": {},
     "output_type": "display_data"
    },
    {
     "data": {
      "application/vnd.jupyter.widget-view+json": {
       "model_id": "ab6e587dffdd4d7eb140ba556a1977df",
       "version_major": 2,
       "version_minor": 0
      },
      "text/plain": [
       "HBox(children=(Button(description='Return', style=ButtonStyle()),))"
      ]
     },
     "metadata": {},
     "output_type": "display_data"
    },
    {
     "data": {
      "application/vnd.jupyter.widget-view+json": {
       "model_id": "d75cf99dca2f42f89c3bd52b02d21286",
       "version_major": 2,
       "version_minor": 0
      },
      "text/plain": [
       "Box(layout=Layout(height='30px'))"
      ]
     },
     "metadata": {},
     "output_type": "display_data"
    },
    {
     "data": {
      "application/vnd.jupyter.widget-view+json": {
       "model_id": "bc52ac10ebc24cc8bfea3705e724b202",
       "version_major": 2,
       "version_minor": 0
      },
      "text/plain": [
       "Label(value='INVENTORY PRUNING', layout=Layout(border_bottom='1px solid black', border_left='1px solid black',…"
      ]
     },
     "metadata": {},
     "output_type": "display_data"
    },
    {
     "data": {
      "application/vnd.jupyter.widget-view+json": {
       "model_id": "8985b101ad3f4ce192cce99070c3eda5",
       "version_major": 2,
       "version_minor": 0
      },
      "text/plain": [
       "HBox(children=(Button(description='Prune Low Rated Songs', style=ButtonStyle()), Button(description='Prune Les…"
      ]
     },
     "metadata": {},
     "output_type": "display_data"
    },
    {
     "data": {
      "application/vnd.jupyter.widget-view+json": {
       "model_id": "44475289d81b4c09828508feb2d027d6",
       "version_major": 2,
       "version_minor": 0
      },
      "text/plain": [
       "Output()"
      ]
     },
     "metadata": {},
     "output_type": "display_data"
    }
   ],
   "source": [
    "import ipywidgets as widgets\n",
    "from ipywidgets import Layout\n",
    "\n",
    "def songSearchPressed(btn):\n",
    "    output.clear_output()\n",
    "    import musicSearch\n",
    "    musicSearch.musicSearch(1,searchInput.value)\n",
    "def artistSearchPressed(btn):    \n",
    "    output.clear_output()\n",
    "    import musicSearch\n",
    "    musicSearch.musicSearch(2,searchInput.value)\n",
    "def mediumSearchPressed(btn):    \n",
    "    output.clear_output()\n",
    "    import musicSearch\n",
    "    musicSearch.musicSearch(3,searchInput.value)\n",
    "def genreSearchPressed(btn):\n",
    "    output.clear_output()\n",
    "    import musicSearch\n",
    "    musicSearch.musicSearch(4,searchInput.value)\n",
    "\n",
    "def rentPressed(btn):\n",
    "    output.clear_output()\n",
    "    import musicRent\n",
    "    musicRent.musicRent(songInput.value,customerInput.value)\n",
    "\n",
    "def returnPressed(btn):\n",
    "    output.clear_output()\n",
    "    import musicReturn\n",
    "    musicReturn.musicReturn(songReturnInput.value,customerReturnInput.value,ratingSlider.value,commentInput.value)\n",
    "\n",
    "def pruneRatingsPressed(btn):\n",
    "    output.clear_output()\n",
    "    import inventoryPruning\n",
    "    inventoryPruning.inventoryPruning(1)\n",
    "\n",
    "def pruneRentsPressed(btn):\n",
    "    output.clear_output()\n",
    "    import inventoryPruning\n",
    "    inventoryPruning.inventoryPruning(2)\n",
    "\n",
    "searchInput = widgets.Text(description = \"\",placeholder = \"Enter search here\")\n",
    "songInput = widgets.Text(description = \"\",placeholder = \"Enter song ID here\")\n",
    "customerInput = widgets.Text(description = \"\",placeholder = \"Enter customer ID here\")\n",
    "commentInput = widgets.Text(description = \"\",placeholder = \"Enter any comments here\")\n",
    "songReturnInput = widgets.Text(description = \"\",placeholder = \"Enter song ID here\")\n",
    "customerReturnInput = widgets.Text(description = \"\",placeholder = \"Enter customer ID here\")\n",
    "\n",
    "\n",
    "ratingSlider = widgets.IntSlider(value = 5, min = 0, max = 5, step = 1, description = \"rating\",continuous_update = True)\n",
    "\n",
    "output = widgets.Output()\n",
    "\n",
    "btnSongSearch = widgets.Button(description = \"Search by song\")\n",
    "btnArtistSearch = widgets.Button(description = \"Search by artist\")\n",
    "btnMediumSearch = widgets.Button(description = \"Search by medium\")\n",
    "btnGenreSearch = widgets.Button(description = \"Search by genre\")\n",
    "\n",
    "\n",
    "btnRent = widgets.Button(description = \"Rent\")\n",
    "btnReturn = widgets.Button(description = \"Return\")\n",
    "btnPruneRatings = widgets.Button(description = \"Prune Low Rated Songs\")\n",
    "btnPruneRents = widgets.Button(description = \"Prune Less Rented Songs\")\n",
    "\n",
    "\n",
    "btnSongSearch.on_click(songSearchPressed)\n",
    "btnArtistSearch.on_click(artistSearchPressed)\n",
    "btnMediumSearch.on_click(mediumSearchPressed)\n",
    "btnGenreSearch.on_click(genreSearchPressed)\n",
    "\n",
    "\n",
    "btnRent.on_click(rentPressed)\n",
    "btnReturn.on_click(returnPressed)\n",
    "btnPruneRatings.on_click(pruneRatingsPressed)\n",
    "btnPruneRents.on_click(pruneRentsPressed)\n",
    "\n",
    "\n",
    "\n",
    "menuSign = widgets.Label(value=\"MUSIC RENTAL MENU\",layout = Layout(border = \"3px solid black\",width = \"30%\"))\n",
    "menuSign.style = {'font_size': '30px'}\n",
    "display(menuSign)\n",
    "\n",
    "display(widgets.Box(layout=widgets.Layout(height=\"30px\")))\n",
    "\n",
    "display(widgets.Label(value=\"SEARCH FOR A SONG\",layout = Layout(border = \"1px solid black\",width = \"20%\")))\n",
    "display(searchInput)\n",
    "display(widgets.HBox([btnSongSearch,btnArtistSearch,btnMediumSearch,btnGenreSearch]))\n",
    "\n",
    "display(widgets.Box(layout=widgets.Layout(height=\"30px\")))\n",
    "\n",
    "display(widgets.Label(value=\"RENT A SONG\",layout = Layout(border = \"1px solid black\",width = \"20%\")))\n",
    "display(songInput)\n",
    "display(customerInput)\n",
    "display(widgets.HBox([btnRent]))\n",
    "\n",
    "display(widgets.Box(layout=widgets.Layout(height=\"30px\")))\n",
    "\n",
    "display(widgets.Label(value=\"RETURN A SONG\",layout = Layout(border = \"1px solid black\",width = \"20%\")))\n",
    "display(songReturnInput)\n",
    "display(customerReturnInput)\n",
    "display(ratingSlider)\n",
    "display(commentInput)\n",
    "display(widgets.HBox([btnReturn]))\n",
    "\n",
    "display(widgets.Box(layout=widgets.Layout(height=\"30px\")))\n",
    "\n",
    "display(widgets.Label(value=\"INVENTORY PRUNING\",layout = Layout(border = \"1px solid black\",width = \"20%\")))\n",
    "display(widgets.HBox([btnPruneRatings,btnPruneRents]))\n",
    "\n",
    "display(output)\n"
   ]
  },
  {
   "cell_type": "markdown",
   "id": "7c412586-122a-4c5b-b7d7-c2d1d662d7a2",
   "metadata": {},
   "source": [
    "## musicSearch"
   ]
  },
  {
   "cell_type": "markdown",
   "id": "ffc9e490-6263-4b3f-ae54-128cb414afec",
   "metadata": {},
   "source": [
    "Functionality for searching up a song/artist/medium/genre and returning all relevant songs."
   ]
  },
  {
   "cell_type": "code",
   "execution_count": 3,
   "id": "dcb3c205-9fcc-4a8c-a5f7-c709e61847b1",
   "metadata": {},
   "outputs": [
    {
     "name": "stdout",
     "output_type": "stream",
     "text": [
      "What method would you like to search upon?\n",
      "1: Song title\n",
      "2: Artist name\n",
      "3: Medium\n",
      "4: Genre\n"
     ]
    },
    {
     "name": "stdin",
     "output_type": "stream",
     "text": [
      "Enter choice from 1 to 4:  1\n",
      "Enter your search request:  bl\n"
     ]
    },
    {
     "name": "stdout",
     "output_type": "stream",
     "text": [
      "['bcbc1', 'Brent Cobb', 'Black Creek', 'CD', 'Country', '2024-11-18', 'UNAVAILABLE']\n"
     ]
    }
   ],
   "source": [
    "import musicSearch\n",
    "print(\"What method would you like to search upon?\")\n",
    "print(\"1: Song title\")\n",
    "print(\"2: Artist name\")\n",
    "print(\"3: Medium\")\n",
    "print(\"4: Genre\")\n",
    "choice = 0 \n",
    "while choice <1 or choice >4:\n",
    "    choice = int(input(\"Enter choice from 1 to 4: \"))\n",
    "\n",
    "request = input(\"Enter your search request: \")\n",
    "\n",
    "musicSearch.musicSearch(choice,request)"
   ]
  },
  {
   "cell_type": "markdown",
   "id": "f3ac2b3b-820a-4dad-a738-8f4accdb1512",
   "metadata": {},
   "source": [
    "## musicRent"
   ]
  },
  {
   "cell_type": "markdown",
   "id": "13ae4d49-ce6d-45a6-ab3a-39e44f03a88c",
   "metadata": {},
   "source": [
    "Functionality for renting a song"
   ]
  },
  {
   "cell_type": "code",
   "execution_count": 6,
   "id": "8ca8779f-7e0b-4a6b-ba26-d6e211bf768b",
   "metadata": {},
   "outputs": [
    {
     "ename": "KeyboardInterrupt",
     "evalue": "Interrupted by user",
     "output_type": "error",
     "traceback": [
      "\u001b[1;31m---------------------------------------------------------------------------\u001b[0m",
      "\u001b[1;31mKeyboardInterrupt\u001b[0m                         Traceback (most recent call last)",
      "Cell \u001b[1;32mIn[6], line 3\u001b[0m\n\u001b[0;32m      1\u001b[0m \u001b[38;5;28;01mimport\u001b[39;00m \u001b[38;5;21;01mmusicRent\u001b[39;00m\n\u001b[1;32m----> 3\u001b[0m song \u001b[38;5;241m=\u001b[39m \u001b[38;5;28;43minput\u001b[39;49m\u001b[43m(\u001b[49m\u001b[38;5;124;43m\"\u001b[39;49m\u001b[38;5;124;43mEnter song ID: \u001b[39;49m\u001b[38;5;124;43m\"\u001b[39;49m\u001b[43m)\u001b[49m\n\u001b[0;32m      4\u001b[0m customer \u001b[38;5;241m=\u001b[39m \u001b[38;5;28minput\u001b[39m(\u001b[38;5;124m\"\u001b[39m\u001b[38;5;124mEnter customer ID: \u001b[39m\u001b[38;5;124m\"\u001b[39m)\n\u001b[0;32m      6\u001b[0m musicRent\u001b[38;5;241m.\u001b[39mmusicRent(song,customer)\n",
      "File \u001b[1;32m~\\AppData\\Roaming\\Python\\Python312\\site-packages\\ipykernel\\kernelbase.py:1282\u001b[0m, in \u001b[0;36mKernel.raw_input\u001b[1;34m(self, prompt)\u001b[0m\n\u001b[0;32m   1280\u001b[0m     msg \u001b[38;5;241m=\u001b[39m \u001b[38;5;124m\"\u001b[39m\u001b[38;5;124mraw_input was called, but this frontend does not support input requests.\u001b[39m\u001b[38;5;124m\"\u001b[39m\n\u001b[0;32m   1281\u001b[0m     \u001b[38;5;28;01mraise\u001b[39;00m StdinNotImplementedError(msg)\n\u001b[1;32m-> 1282\u001b[0m \u001b[38;5;28;01mreturn\u001b[39;00m \u001b[38;5;28;43mself\u001b[39;49m\u001b[38;5;241;43m.\u001b[39;49m\u001b[43m_input_request\u001b[49m\u001b[43m(\u001b[49m\n\u001b[0;32m   1283\u001b[0m \u001b[43m    \u001b[49m\u001b[38;5;28;43mstr\u001b[39;49m\u001b[43m(\u001b[49m\u001b[43mprompt\u001b[49m\u001b[43m)\u001b[49m\u001b[43m,\u001b[49m\n\u001b[0;32m   1284\u001b[0m \u001b[43m    \u001b[49m\u001b[38;5;28;43mself\u001b[39;49m\u001b[38;5;241;43m.\u001b[39;49m\u001b[43m_parent_ident\u001b[49m\u001b[43m[\u001b[49m\u001b[38;5;124;43m\"\u001b[39;49m\u001b[38;5;124;43mshell\u001b[39;49m\u001b[38;5;124;43m\"\u001b[39;49m\u001b[43m]\u001b[49m\u001b[43m,\u001b[49m\n\u001b[0;32m   1285\u001b[0m \u001b[43m    \u001b[49m\u001b[38;5;28;43mself\u001b[39;49m\u001b[38;5;241;43m.\u001b[39;49m\u001b[43mget_parent\u001b[49m\u001b[43m(\u001b[49m\u001b[38;5;124;43m\"\u001b[39;49m\u001b[38;5;124;43mshell\u001b[39;49m\u001b[38;5;124;43m\"\u001b[39;49m\u001b[43m)\u001b[49m\u001b[43m,\u001b[49m\n\u001b[0;32m   1286\u001b[0m \u001b[43m    \u001b[49m\u001b[43mpassword\u001b[49m\u001b[38;5;241;43m=\u001b[39;49m\u001b[38;5;28;43;01mFalse\u001b[39;49;00m\u001b[43m,\u001b[49m\n\u001b[0;32m   1287\u001b[0m \u001b[43m\u001b[49m\u001b[43m)\u001b[49m\n",
      "File \u001b[1;32m~\\AppData\\Roaming\\Python\\Python312\\site-packages\\ipykernel\\kernelbase.py:1325\u001b[0m, in \u001b[0;36mKernel._input_request\u001b[1;34m(self, prompt, ident, parent, password)\u001b[0m\n\u001b[0;32m   1322\u001b[0m \u001b[38;5;28;01mexcept\u001b[39;00m \u001b[38;5;167;01mKeyboardInterrupt\u001b[39;00m:\n\u001b[0;32m   1323\u001b[0m     \u001b[38;5;66;03m# re-raise KeyboardInterrupt, to truncate traceback\u001b[39;00m\n\u001b[0;32m   1324\u001b[0m     msg \u001b[38;5;241m=\u001b[39m \u001b[38;5;124m\"\u001b[39m\u001b[38;5;124mInterrupted by user\u001b[39m\u001b[38;5;124m\"\u001b[39m\n\u001b[1;32m-> 1325\u001b[0m     \u001b[38;5;28;01mraise\u001b[39;00m \u001b[38;5;167;01mKeyboardInterrupt\u001b[39;00m(msg) \u001b[38;5;28;01mfrom\u001b[39;00m \u001b[38;5;28;01mNone\u001b[39;00m\n\u001b[0;32m   1326\u001b[0m \u001b[38;5;28;01mexcept\u001b[39;00m \u001b[38;5;167;01mException\u001b[39;00m:\n\u001b[0;32m   1327\u001b[0m     \u001b[38;5;28mself\u001b[39m\u001b[38;5;241m.\u001b[39mlog\u001b[38;5;241m.\u001b[39mwarning(\u001b[38;5;124m\"\u001b[39m\u001b[38;5;124mInvalid Message:\u001b[39m\u001b[38;5;124m\"\u001b[39m, exc_info\u001b[38;5;241m=\u001b[39m\u001b[38;5;28;01mTrue\u001b[39;00m)\n",
      "\u001b[1;31mKeyboardInterrupt\u001b[0m: Interrupted by user"
     ]
    }
   ],
   "source": [
    "import musicRent\n",
    "\n",
    "song = input(\"Enter song ID: \")\n",
    "customer = input(\"Enter customer ID: \")\n",
    "\n",
    "musicRent.musicRent(song,customer)"
   ]
  },
  {
   "cell_type": "markdown",
   "id": "c9df9095-6bbd-4962-8268-b510976e5be8",
   "metadata": {},
   "source": [
    "## musicReturn"
   ]
  },
  {
   "cell_type": "markdown",
   "id": "84da0eb7-a726-41e6-9fdf-6fb0e046e71a",
   "metadata": {},
   "source": [
    "Functionality for returning a previously rented song. Please note that it requires a customerID input also to ensure that the correct customer is returning the CD and not somebody else"
   ]
  },
  {
   "cell_type": "code",
   "execution_count": null,
   "id": "4c678783-bbb3-42bc-af2e-a61c947fe63e",
   "metadata": {},
   "outputs": [],
   "source": [
    "import musicReturn\n",
    "\n",
    "song = input(\"Enter song ID: \")\n",
    "customer = input(\"Enter customer ID: \")\n",
    "\n",
    "rating = 0\n",
    "\n",
    "while rating < 1 or rating >5:\n",
    "    rating = int(input(\"Enter song's rating /5: \"))\n",
    "\n",
    "comments = input(\"Enter any comments (optional): \")\n",
    "\n",
    "musicReturn.musicReturn(song,customer,rating,comments)\n",
    "\n"
   ]
  },
  {
   "cell_type": "markdown",
   "id": "eb71822b-5e1c-45dd-9c88-2c5aba850242",
   "metadata": {},
   "source": [
    "## inventoryPruning"
   ]
  },
  {
   "cell_type": "markdown",
   "id": "fe4c7269-3655-474c-8626-c14d51b5ca83",
   "metadata": {},
   "source": [
    "Code that presents the worst rated or least rented song depending on your choice, incase you wanted to save space by removing a song."
   ]
  },
  {
   "cell_type": "code",
   "execution_count": 5,
   "id": "438df746-0d5a-4f7f-92a8-ddc80bdf3c72",
   "metadata": {},
   "outputs": [
    {
     "name": "stdout",
     "output_type": "stream",
     "text": [
      "What method would you like to prune upon?\n",
      "1: Lowest ratings\n",
      "2: Lowest number of rents\n"
     ]
    },
    {
     "name": "stdin",
     "output_type": "stream",
     "text": [
      "Enter choice:  1\n"
     ]
    },
    {
     "name": "stdout",
     "output_type": "stream",
     "text": [
      "We suggest you remove song: pbs1 with an average rating of 1.0/5.\n",
      "RecordID,,ArtistTitle,Medium,Genre,PurchaseDate\n",
      "['pbs1', 'Black Sabbath', 'Paranoid', 'Vinyl', 'Rock', '2009-02-11']\n"
     ]
    }
   ],
   "source": [
    "import inventoryPruning\n",
    "\n",
    "print(\"What method would you like to prune upon?\")\n",
    "print(\"1: Lowest ratings\")\n",
    "print(\"2: Lowest number of rents\")\n",
    "\n",
    "choice = 0\n",
    "while choice < 1 or choice >2:\n",
    "    choice = int(input(\"Enter choice: \"))\n",
    "\n",
    "inventoryPruning.inventoryPruning(choice)"
   ]
  },
  {
   "cell_type": "markdown",
   "id": "10f43eba-db44-4891-a912-0a79fd0a15dd",
   "metadata": {},
   "source": [
    "## database"
   ]
  },
  {
   "cell_type": "markdown",
   "id": "421416c2-b89c-4968-9ad6-508da7ed525f",
   "metadata": {},
   "source": [
    "The most common function used to interact with files will be:\n",
    "\n",
    "with open(\"fileName.txt\",\"r+\") as f:\n",
    "    \n",
    "This allows me to open the file for reading whilst also allowing me to change the file (r+). This is useful for things like musicReturn and musicRent. In the case of inventoryPruning or musicSearch you would see simply \"r\" in that second parameter of the open block since the database does not need to be changed. "
   ]
  },
  {
   "cell_type": "markdown",
   "id": "2bede94b-581b-4fb0-8d35-d5c83b74547c",
   "metadata": {},
   "source": [
    "Two functions that I also frequently use are:\n",
    "\n",
    "line.strip()\n",
    "and \n",
    "line.split(',')\n",
    "\n",
    "line.strip() removes any whitespaces from the line in the file like any spaces or tabs that were accidentally placed in the file.\n",
    "\n",
    "line.split(',') splits the line into a list, with each new item in the list seperated by a comma that was in the original string of the line. This is key as it allows for me to access specific cells in the database for searches or edits and more."
   ]
  }
 ],
 "metadata": {
  "kernelspec": {
   "display_name": "Python 3 (ipykernel)",
   "language": "python",
   "name": "python3"
  },
  "language_info": {
   "codemirror_mode": {
    "name": "ipython",
    "version": 3
   },
   "file_extension": ".py",
   "mimetype": "text/x-python",
   "name": "python",
   "nbconvert_exporter": "python",
   "pygments_lexer": "ipython3",
   "version": "3.12.7"
  }
 },
 "nbformat": 4,
 "nbformat_minor": 5
}
